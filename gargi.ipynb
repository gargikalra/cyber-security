{
  "nbformat": 4,
  "nbformat_minor": 0,
  "metadata": {
    "colab": {
      "name": "gargi.ipynb",
      "provenance": [],
      "collapsed_sections": []
    },
    "kernelspec": {
      "name": "python3",
      "display_name": "Python 3"
    },
    "language_info": {
      "name": "python"
    }
  },
  "cells": [
    {
      "cell_type": "code",
      "metadata": {
        "colab": {
          "base_uri": "https://localhost:8080/"
        },
        "id": "MiLJisGWb5BY",
        "outputId": "a9526fbb-0b6e-4c2b-b29d-335731e5b057"
      },
      "source": [
        "import requests\n",
        "from datetime import datetime\n",
        "\n",
        "api_key = '455a3faa47caccb43849cfbb1d009a7b'\n",
        "location = input(\"Enter the city name: \")\n",
        "complete_api_link = \"https://api.openweathermap.org/data/2.5/weather?q=\"+location+\"&appid=\"+api_key \n",
        "api_link = requests.get(complete_api_link) \n",
        "api_data = api_link.json()\n",
        "\n",
        "temp_city = ((api_data['main']['temp']) - 273.15)\n",
        "weather_desc = api_data['weather'][0]['description']\n",
        "hmdt = api_data['main']['humidity']\n",
        "wind_spd = api_data['wind']['speed']\n",
        "date_time= datetime.now().strftime(\"%d %b %Y | %I :%M : %S %p\")\n",
        " \n",
        "print(\"__________________________________________________________________________________\")\n",
        "print(\"weather stats for -{}  || {}\".format(location.upper(),date_time))\n",
        "print(\"__________________________________________________________________________________\")\n",
        "print(\"current temperature is: {:.2f} deg C\".format(temp_city))\n",
        "print(\"current weather desc :\",weather_desc)\n",
        "print(\"current Humidity  :\",hmdt, '%')\n",
        "print(\"current wind speed :\",wind_spd,'kmph')\n",
        "\n",
        "\n"
      ],
      "execution_count": 18,
      "outputs": [
        {
          "output_type": "stream",
          "text": [
            "Enter the city name: delhi\n",
            "__________________________________________________________________________________\n",
            "weather stats for -DELHI  || 23 Jun 2021 | 07 :06 : 14 AM\n",
            "__________________________________________________________________________________\n",
            "current temperature is: 38.05 deg C\n",
            "current weather desc : haze\n",
            "current Humidity  : 28 %\n",
            "current wind speed : 2.06 kmph\n"
          ],
          "name": "stdout"
        }
      ]
    }
  ]
}